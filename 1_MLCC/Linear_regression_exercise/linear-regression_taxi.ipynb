{
 "cells": [
  {
   "cell_type": "markdown",
   "id": "995afa1b-15f9-4ebb-809f-69ea3c515d5a",
   "metadata": {},
   "source": [
    "# Linear Regression Latihan\n",
    "## Learning Objectives\n",
    "Setelah menyelesaikan latihan ini, kamu akan dapat:\n",
    "- Membaca file .csv kedalam pandas DataFrame\n",
    "- Explore dataset dengan Python visualization libraries.\n",
    "- Experiment dengan fiturs yang berbeda beda untuk membuat linear regression model\n",
    "- Tune the models hyperparameters.\n",
    "- Compare training runs menggunakan root mean squared error dan loss curves\n",
    "\n",
    "### Dataset Description\n",
    "Dataset yang digunakan adalah City Chicago Taxi Trips dataset. (The data for this exercise is a subset of the Taxi Trips data, and focuses on a two-day period in May of 2022.)"
   ]
  },
  {
   "cell_type": "markdown",
   "id": "3b3a4605-b242-487f-8595-39739bc13ac2",
   "metadata": {},
   "source": [
    "#### Part 1 - Setup Exercise"
   ]
  },
  {
   "cell_type": "markdown",
   "id": "4e23e642-72ad-46ee-ad91-2599071878b6",
   "metadata": {},
   "source": [
    "#### Load dependencies"
   ]
  },
  {
   "cell_type": "code",
   "execution_count": null,
   "id": "b5847a47-95d8-4a86-9754-b2cf4b3b3100",
   "metadata": {},
   "outputs": [],
   "source": [
    "import io"
   ]
  },
  {
   "cell_type": "code",
   "execution_count": 2,
   "id": "23d2563c-4a9c-4317-acb8-973fbbe47e0c",
   "metadata": {},
   "outputs": [],
   "source": [
    "import numpy as np\n",
    "import pandas as pd"
   ]
  },
  {
   "cell_type": "code",
   "execution_count": null,
   "id": "fce211a8-10ea-4491-9b93-970e4bb58601",
   "metadata": {},
   "outputs": [],
   "source": [
    "import keras\n",
    "print(keras.__version__)"
   ]
  },
  {
   "cell_type": "code",
   "execution_count": null,
   "id": "ecceb6d2-459c-4462-bf7e-365e8b79802f",
   "metadata": {},
   "outputs": [],
   "source": [
    "import plotly.express as px\n",
    "from plotly.subplots import make_subplots\n",
    "import plotly.graph_objects as go\n",
    "import seaborn as sns"
   ]
  },
  {
   "cell_type": "markdown",
   "id": "6b6f40e3-a28a-44e7-a04b-136ffe931bc6",
   "metadata": {},
   "source": [
    "#### Load the dataset"
   ]
  },
  {
   "cell_type": "code",
   "execution_count": 3,
   "id": "dda19cac-2310-4ea3-bcd9-eb8cecc7b6d3",
   "metadata": {},
   "outputs": [],
   "source": [
    "chicago_taxi_dataset = pd.read_csv(\"chicago_taxi_train.csv\")"
   ]
  },
  {
   "cell_type": "code",
   "execution_count": 4,
   "id": "1e5de582-e5bd-473e-b0a5-50bd936a462c",
   "metadata": {},
   "outputs": [
    {
     "name": "stdout",
     "output_type": "stream",
     "text": [
      "Read dataset completed successfully.\n",
      "Total number of rows: 31694\n",
      "\n",
      "\n"
     ]
    },
    {
     "data": {
      "text/html": [
       "<div>\n",
       "<style scoped>\n",
       "    .dataframe tbody tr th:only-of-type {\n",
       "        vertical-align: middle;\n",
       "    }\n",
       "\n",
       "    .dataframe tbody tr th {\n",
       "        vertical-align: top;\n",
       "    }\n",
       "\n",
       "    .dataframe thead th {\n",
       "        text-align: right;\n",
       "    }\n",
       "</style>\n",
       "<table border=\"1\" class=\"dataframe\">\n",
       "  <thead>\n",
       "    <tr style=\"text-align: right;\">\n",
       "      <th></th>\n",
       "      <th>TRIP_MILES</th>\n",
       "      <th>TRIP_SECONDS</th>\n",
       "      <th>FARE</th>\n",
       "      <th>COMPANY</th>\n",
       "      <th>PAYMENT_TYPE</th>\n",
       "      <th>TIP_RATE</th>\n",
       "    </tr>\n",
       "  </thead>\n",
       "  <tbody>\n",
       "    <tr>\n",
       "      <th>0</th>\n",
       "      <td>2.57</td>\n",
       "      <td>2341</td>\n",
       "      <td>31.99</td>\n",
       "      <td>Flash Cab</td>\n",
       "      <td>Mobile</td>\n",
       "      <td>6.3</td>\n",
       "    </tr>\n",
       "    <tr>\n",
       "      <th>1</th>\n",
       "      <td>1.18</td>\n",
       "      <td>1074</td>\n",
       "      <td>9.75</td>\n",
       "      <td>Flash Cab</td>\n",
       "      <td>Credit Card</td>\n",
       "      <td>27.9</td>\n",
       "    </tr>\n",
       "    <tr>\n",
       "      <th>2</th>\n",
       "      <td>1.29</td>\n",
       "      <td>1173</td>\n",
       "      <td>10.25</td>\n",
       "      <td>Sun Taxi</td>\n",
       "      <td>Cash</td>\n",
       "      <td>0.0</td>\n",
       "    </tr>\n",
       "    <tr>\n",
       "      <th>3</th>\n",
       "      <td>3.70</td>\n",
       "      <td>3360</td>\n",
       "      <td>23.75</td>\n",
       "      <td>Choice Taxi Association</td>\n",
       "      <td>Cash</td>\n",
       "      <td>0.0</td>\n",
       "    </tr>\n",
       "    <tr>\n",
       "      <th>4</th>\n",
       "      <td>1.15</td>\n",
       "      <td>1044</td>\n",
       "      <td>10.00</td>\n",
       "      <td>Flash Cab</td>\n",
       "      <td>Cash</td>\n",
       "      <td>0.0</td>\n",
       "    </tr>\n",
       "    <tr>\n",
       "      <th>...</th>\n",
       "      <td>...</td>\n",
       "      <td>...</td>\n",
       "      <td>...</td>\n",
       "      <td>...</td>\n",
       "      <td>...</td>\n",
       "      <td>...</td>\n",
       "    </tr>\n",
       "    <tr>\n",
       "      <th>195</th>\n",
       "      <td>1.13</td>\n",
       "      <td>821</td>\n",
       "      <td>9.00</td>\n",
       "      <td>Blue Ribbon Taxi Association</td>\n",
       "      <td>Mobile</td>\n",
       "      <td>22.9</td>\n",
       "    </tr>\n",
       "    <tr>\n",
       "      <th>196</th>\n",
       "      <td>0.57</td>\n",
       "      <td>414</td>\n",
       "      <td>6.00</td>\n",
       "      <td>Flash Cab</td>\n",
       "      <td>Cash</td>\n",
       "      <td>0.0</td>\n",
       "    </tr>\n",
       "    <tr>\n",
       "      <th>197</th>\n",
       "      <td>1.22</td>\n",
       "      <td>886</td>\n",
       "      <td>9.00</td>\n",
       "      <td>City Service</td>\n",
       "      <td>Cash</td>\n",
       "      <td>0.0</td>\n",
       "    </tr>\n",
       "    <tr>\n",
       "      <th>198</th>\n",
       "      <td>1.68</td>\n",
       "      <td>1219</td>\n",
       "      <td>9.00</td>\n",
       "      <td>Sun Taxi</td>\n",
       "      <td>Mobile</td>\n",
       "      <td>23.0</td>\n",
       "    </tr>\n",
       "    <tr>\n",
       "      <th>199</th>\n",
       "      <td>0.71</td>\n",
       "      <td>515</td>\n",
       "      <td>6.50</td>\n",
       "      <td>Sun Taxi</td>\n",
       "      <td>Credit Card</td>\n",
       "      <td>18.2</td>\n",
       "    </tr>\n",
       "  </tbody>\n",
       "</table>\n",
       "<p>200 rows × 6 columns</p>\n",
       "</div>"
      ],
      "text/plain": [
       "     TRIP_MILES  TRIP_SECONDS   FARE                       COMPANY  \\\n",
       "0          2.57          2341  31.99                     Flash Cab   \n",
       "1          1.18          1074   9.75                     Flash Cab   \n",
       "2          1.29          1173  10.25                      Sun Taxi   \n",
       "3          3.70          3360  23.75       Choice Taxi Association   \n",
       "4          1.15          1044  10.00                     Flash Cab   \n",
       "..          ...           ...    ...                           ...   \n",
       "195        1.13           821   9.00  Blue Ribbon Taxi Association   \n",
       "196        0.57           414   6.00                     Flash Cab   \n",
       "197        1.22           886   9.00                  City Service   \n",
       "198        1.68          1219   9.00                      Sun Taxi   \n",
       "199        0.71           515   6.50                      Sun Taxi   \n",
       "\n",
       "    PAYMENT_TYPE  TIP_RATE  \n",
       "0         Mobile       6.3  \n",
       "1    Credit Card      27.9  \n",
       "2           Cash       0.0  \n",
       "3           Cash       0.0  \n",
       "4           Cash       0.0  \n",
       "..           ...       ...  \n",
       "195       Mobile      22.9  \n",
       "196         Cash       0.0  \n",
       "197         Cash       0.0  \n",
       "198       Mobile      23.0  \n",
       "199  Credit Card      18.2  \n",
       "\n",
       "[200 rows x 6 columns]"
      ]
     },
     "execution_count": 4,
     "metadata": {},
     "output_type": "execute_result"
    }
   ],
   "source": [
    "training_df = chicago_taxi_dataset[['TRIP_MILES', 'TRIP_SECONDS', 'FARE', 'COMPANY', 'PAYMENT_TYPE', 'TIP_RATE']]\n",
    "print('Read dataset completed successfully.')\n",
    "print('Total number of rows: {0}\\n\\n'.format(len(training_df.index)))\n",
    "training_df.head(200)"
   ]
  },
  {
   "cell_type": "markdown",
   "id": "9ca6cee6-c163-42db-952c-8eb900f3fe3d",
   "metadata": {},
   "source": [
    "### Part 2 - Dataset Exploration"
   ]
  },
  {
   "cell_type": "markdown",
   "id": "e0ff5b62-243f-4195-8f87-8a6ff3742dd0",
   "metadata": {},
   "source": [
    "### Instructions\n",
    "#### 1. View dataset statistic"
   ]
  },
  {
   "cell_type": "code",
   "execution_count": 8,
   "id": "fe6cf020-c08e-48df-a10e-9781aa977125",
   "metadata": {},
   "outputs": [
    {
     "name": "stdout",
     "output_type": "stream",
     "text": [
      "Total number of rows: 31694\n",
      "\n",
      "\n"
     ]
    },
    {
     "data": {
      "text/html": [
       "<div>\n",
       "<style scoped>\n",
       "    .dataframe tbody tr th:only-of-type {\n",
       "        vertical-align: middle;\n",
       "    }\n",
       "\n",
       "    .dataframe tbody tr th {\n",
       "        vertical-align: top;\n",
       "    }\n",
       "\n",
       "    .dataframe thead th {\n",
       "        text-align: right;\n",
       "    }\n",
       "</style>\n",
       "<table border=\"1\" class=\"dataframe\">\n",
       "  <thead>\n",
       "    <tr style=\"text-align: right;\">\n",
       "      <th></th>\n",
       "      <th>TRIP_MILES</th>\n",
       "      <th>TRIP_SECONDS</th>\n",
       "      <th>FARE</th>\n",
       "      <th>COMPANY</th>\n",
       "      <th>PAYMENT_TYPE</th>\n",
       "      <th>TIP_RATE</th>\n",
       "    </tr>\n",
       "  </thead>\n",
       "  <tbody>\n",
       "    <tr>\n",
       "      <th>count</th>\n",
       "      <td>31694.000000</td>\n",
       "      <td>31694.000000</td>\n",
       "      <td>31694.000000</td>\n",
       "      <td>31694</td>\n",
       "      <td>31694</td>\n",
       "      <td>31694.000000</td>\n",
       "    </tr>\n",
       "    <tr>\n",
       "      <th>unique</th>\n",
       "      <td>NaN</td>\n",
       "      <td>NaN</td>\n",
       "      <td>NaN</td>\n",
       "      <td>31</td>\n",
       "      <td>7</td>\n",
       "      <td>NaN</td>\n",
       "    </tr>\n",
       "    <tr>\n",
       "      <th>top</th>\n",
       "      <td>NaN</td>\n",
       "      <td>NaN</td>\n",
       "      <td>NaN</td>\n",
       "      <td>Flash Cab</td>\n",
       "      <td>Credit Card</td>\n",
       "      <td>NaN</td>\n",
       "    </tr>\n",
       "    <tr>\n",
       "      <th>freq</th>\n",
       "      <td>NaN</td>\n",
       "      <td>NaN</td>\n",
       "      <td>NaN</td>\n",
       "      <td>7887</td>\n",
       "      <td>14142</td>\n",
       "      <td>NaN</td>\n",
       "    </tr>\n",
       "    <tr>\n",
       "      <th>mean</th>\n",
       "      <td>8.289463</td>\n",
       "      <td>1319.796397</td>\n",
       "      <td>23.905210</td>\n",
       "      <td>NaN</td>\n",
       "      <td>NaN</td>\n",
       "      <td>12.965785</td>\n",
       "    </tr>\n",
       "    <tr>\n",
       "      <th>std</th>\n",
       "      <td>7.265672</td>\n",
       "      <td>928.932873</td>\n",
       "      <td>16.970022</td>\n",
       "      <td>NaN</td>\n",
       "      <td>NaN</td>\n",
       "      <td>15.517765</td>\n",
       "    </tr>\n",
       "    <tr>\n",
       "      <th>min</th>\n",
       "      <td>0.500000</td>\n",
       "      <td>60.000000</td>\n",
       "      <td>3.250000</td>\n",
       "      <td>NaN</td>\n",
       "      <td>NaN</td>\n",
       "      <td>0.000000</td>\n",
       "    </tr>\n",
       "    <tr>\n",
       "      <th>25%</th>\n",
       "      <td>1.720000</td>\n",
       "      <td>548.000000</td>\n",
       "      <td>9.000000</td>\n",
       "      <td>NaN</td>\n",
       "      <td>NaN</td>\n",
       "      <td>0.000000</td>\n",
       "    </tr>\n",
       "    <tr>\n",
       "      <th>50%</th>\n",
       "      <td>5.920000</td>\n",
       "      <td>1081.000000</td>\n",
       "      <td>18.750000</td>\n",
       "      <td>NaN</td>\n",
       "      <td>NaN</td>\n",
       "      <td>12.200000</td>\n",
       "    </tr>\n",
       "    <tr>\n",
       "      <th>75%</th>\n",
       "      <td>14.500000</td>\n",
       "      <td>1888.000000</td>\n",
       "      <td>38.750000</td>\n",
       "      <td>NaN</td>\n",
       "      <td>NaN</td>\n",
       "      <td>20.800000</td>\n",
       "    </tr>\n",
       "    <tr>\n",
       "      <th>max</th>\n",
       "      <td>68.120000</td>\n",
       "      <td>7140.000000</td>\n",
       "      <td>159.250000</td>\n",
       "      <td>NaN</td>\n",
       "      <td>NaN</td>\n",
       "      <td>648.600000</td>\n",
       "    </tr>\n",
       "  </tbody>\n",
       "</table>\n",
       "</div>"
      ],
      "text/plain": [
       "          TRIP_MILES  TRIP_SECONDS          FARE    COMPANY PAYMENT_TYPE  \\\n",
       "count   31694.000000  31694.000000  31694.000000      31694        31694   \n",
       "unique           NaN           NaN           NaN         31            7   \n",
       "top              NaN           NaN           NaN  Flash Cab  Credit Card   \n",
       "freq             NaN           NaN           NaN       7887        14142   \n",
       "mean        8.289463   1319.796397     23.905210        NaN          NaN   \n",
       "std         7.265672    928.932873     16.970022        NaN          NaN   \n",
       "min         0.500000     60.000000      3.250000        NaN          NaN   \n",
       "25%         1.720000    548.000000      9.000000        NaN          NaN   \n",
       "50%         5.920000   1081.000000     18.750000        NaN          NaN   \n",
       "75%        14.500000   1888.000000     38.750000        NaN          NaN   \n",
       "max        68.120000   7140.000000    159.250000        NaN          NaN   \n",
       "\n",
       "            TIP_RATE  \n",
       "count   31694.000000  \n",
       "unique           NaN  \n",
       "top              NaN  \n",
       "freq             NaN  \n",
       "mean       12.965785  \n",
       "std        15.517765  \n",
       "min         0.000000  \n",
       "25%         0.000000  \n",
       "50%        12.200000  \n",
       "75%        20.800000  \n",
       "max       648.600000  "
      ]
     },
     "execution_count": 8,
     "metadata": {},
     "output_type": "execute_result"
    }
   ],
   "source": [
    "print('Total number of rows: {0}\\n\\n'.format(len(training_df.index)))\n",
    "training_df.describe(include='all')"
   ]
  },
  {
   "cell_type": "markdown",
   "id": "7642de16-a369-4966-ae00-2df602780c09",
   "metadata": {},
   "source": [
    "#### 2. Inspect output and answer"
   ]
  },
  {
   "cell_type": "code",
   "execution_count": 11,
   "id": "b4308be6-7fc8-48cd-a875-f65e30f178f7",
   "metadata": {},
   "outputs": [],
   "source": [
    "# Maximum fare\n",
    "max_fare = training_df['FARE'].max()"
   ]
  },
  {
   "cell_type": "code",
   "execution_count": 12,
   "id": "97f1ea7c-8f5d-4aaf-bac1-c32b9486a79e",
   "metadata": {},
   "outputs": [
    {
     "data": {
      "text/plain": [
       "np.float64(159.25)"
      ]
     },
     "execution_count": 12,
     "metadata": {},
     "output_type": "execute_result"
    }
   ],
   "source": [
    "max_fare"
   ]
  },
  {
   "cell_type": "code",
   "execution_count": 16,
   "id": "3bfefbae-ed31-4cc1-89ae-335920d69168",
   "metadata": {},
   "outputs": [
    {
     "name": "stdout",
     "output_type": "stream",
     "text": [
      "What is the maximum fare? \t\t\t\tAnswer: $159.25\n",
      "What is the mean distance across all trips? \t\tAnswer: 8.2895 miles\n",
      "How many cab companies are in the dataset? \t\tAnswer: 31\n",
      "What is the most frequent payment type? \t\tAnswer: Credit Card\n",
      "Are any features missing data? \t\t\t\tAnswer: No\n"
     ]
    }
   ],
   "source": [
    "# What is the maximum fare?\n",
    "print(\"What is the maximum fare? \\t\\t\\t\\tAnswer: ${fare:.2f}\".format(fare = max_fare))\n",
    "\n",
    "# What is the mean distance across all trips?\n",
    "mean_distance = training_df['TRIP_MILES'].mean()\n",
    "print(\"What is the mean distance across all trips? \\t\\tAnswer: {mean:.4f} miles\".format(mean = mean_distance))\n",
    "\n",
    "# How many cab companies are in the dataset?\n",
    "num_unique_companies =  training_df['COMPANY'].nunique()\n",
    "print(\"How many cab companies are in the dataset? \\t\\tAnswer: {number}\".format(number = num_unique_companies))\n",
    "\n",
    "# What is the most frequent payment type?\n",
    "most_freq_payment_type = training_df['PAYMENT_TYPE'].value_counts().idxmax()\n",
    "print(\"What is the most frequent payment type? \\t\\tAnswer: {type}\".format(type = most_freq_payment_type))\n",
    "\n",
    "# Are any features missing data?\n",
    "missing_values = training_df.isnull().sum().sum()\n",
    "print(\"Are any features missing data? \\t\\t\\t\\tAnswer:\", \"No\" if missing_values == 0 else \"Yes\")"
   ]
  },
  {
   "cell_type": "code",
   "execution_count": null,
   "id": "26a2724b-8ad7-4934-9305-9181f4128801",
   "metadata": {},
   "outputs": [],
   "source": []
  }
 ],
 "metadata": {
  "kernelspec": {
   "display_name": "Python 3 (ipykernel)",
   "language": "python",
   "name": "python3"
  },
  "language_info": {
   "codemirror_mode": {
    "name": "ipython",
    "version": 3
   },
   "file_extension": ".py",
   "mimetype": "text/x-python",
   "name": "python",
   "nbconvert_exporter": "python",
   "pygments_lexer": "ipython3",
   "version": "3.12.6"
  }
 },
 "nbformat": 4,
 "nbformat_minor": 5
}
