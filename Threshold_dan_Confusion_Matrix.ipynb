{
  "nbformat": 4,
  "nbformat_minor": 0,
  "metadata": {
    "colab": {
      "provenance": [],
      "authorship_tag": "ABX9TyMCllhdZWeoUzPE96UQzIJ6",
      "include_colab_link": true
    },
    "kernelspec": {
      "name": "python3",
      "display_name": "Python 3"
    },
    "language_info": {
      "name": "python"
    }
  },
  "cells": [
    {
      "cell_type": "markdown",
      "metadata": {
        "id": "view-in-github",
        "colab_type": "text"
      },
      "source": [
        "<a href=\"https://colab.research.google.com/github/vanbumi/AI-Engineer-Roadmap/blob/main/Threshold_dan_Confusion_Matrix.ipynb\" target=\"_parent\"><img src=\"https://colab.research.google.com/assets/colab-badge.svg\" alt=\"Open In Colab\"/></a>"
      ]
    },
    {
      "cell_type": "code",
      "execution_count": 1,
      "metadata": {
        "id": "iFLvC-KjRSwT"
      },
      "outputs": [],
      "source": [
        "from sklearn.metrics import confusion_matrix, classification_report"
      ]
    },
    {
      "cell_type": "code",
      "source": [
        "# Contoh data\n",
        "actual = [1,0,1,1,0,0,1,0] # 1 = spam, 0 = bukan spam\n",
        "predicted_probabilities = [0.9, 0.4, 0.8, 0.3, 0.2, 0.7, 0.95, 0.1]"
      ],
      "metadata": {
        "id": "AubCVhOBW9kS"
      },
      "execution_count": 6,
      "outputs": []
    },
    {
      "cell_type": "code",
      "source": [
        "# Threshod yang kita gunakan\n",
        "threshold = 0.5\n",
        "predicted = [1 if prob >= threshold else 0 for prob in predicted_probabilities]"
      ],
      "metadata": {
        "id": "mHDhWTe_XYv3"
      },
      "execution_count": 3,
      "outputs": []
    },
    {
      "cell_type": "code",
      "source": [
        "# Confusion Matrix\n",
        "cm = confusion_matrix(actual, predicted)\n",
        "print(\"Confusion Matrix:\")\n",
        "print(cm)"
      ],
      "metadata": {
        "colab": {
          "base_uri": "https://localhost:8080/"
        },
        "id": "RF6CLhhnYTsu",
        "outputId": "443a49fc-8582-4af9-a80d-fa62dd72e2f1"
      },
      "execution_count": 4,
      "outputs": [
        {
          "output_type": "stream",
          "name": "stdout",
          "text": [
            "Confusion Matrix:\n",
            "[[3 1]\n",
            " [1 3]]\n"
          ]
        }
      ]
    },
    {
      "cell_type": "code",
      "source": [
        "# Laporan Klasifikasi\n",
        "report = classification_report(actual, predicted, target_names=[\"Bukan Spam\", \"Spam\"])\n",
        "print(\"\\nClassification Report:\")\n",
        "print(report)"
      ],
      "metadata": {
        "colab": {
          "base_uri": "https://localhost:8080/"
        },
        "id": "asCc_25JYZgf",
        "outputId": "adca4dfd-7c96-4ced-95c2-8edb09ffb11d"
      },
      "execution_count": 5,
      "outputs": [
        {
          "output_type": "stream",
          "name": "stdout",
          "text": [
            "\n",
            "Classification Report:\n",
            "              precision    recall  f1-score   support\n",
            "\n",
            "  Bukan Spam       0.75      0.75      0.75         4\n",
            "        Spam       0.75      0.75      0.75         4\n",
            "\n",
            "    accuracy                           0.75         8\n",
            "   macro avg       0.75      0.75      0.75         8\n",
            "weighted avg       0.75      0.75      0.75         8\n",
            "\n"
          ]
        }
      ]
    },
    {
      "cell_type": "code",
      "source": [],
      "metadata": {
        "id": "2UL4liPLYeN1"
      },
      "execution_count": null,
      "outputs": []
    }
  ]
}